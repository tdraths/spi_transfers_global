{
 "cells": [
  {
   "cell_type": "code",
   "execution_count": 6,
   "id": "classical-knock",
   "metadata": {},
   "outputs": [
    {
     "name": "stdout",
     "output_type": "stream",
     "text": [
      "Collecting fuzzywuzzy\n",
      "  Downloading fuzzywuzzy-0.18.0-py2.py3-none-any.whl (18 kB)\n",
      "Installing collected packages: fuzzywuzzy\n",
      "Successfully installed fuzzywuzzy-0.18.0\n"
     ]
    }
   ],
   "source": [
    "import pandas as pd\n",
    "!pip3 install fuzzywuzzy\n",
    "\n",
    "\n",
    "path_spi = '/home/tdraths/DS_Projects/transfers_ver2/data/interim/spi_scores.csv'\n",
    "path_transfers = '/home/tdraths/DS_Projects/transfers_ver2/data/interim/concatenated_datasets.csv'\n",
    "\n",
    "\n",
    "spi = pd.read_csv(path_spi, index_col=0)\n",
    "transfers = pd.read_csv(path_transfers, index_col=0)"
   ]
  },
  {
   "cell_type": "code",
   "execution_count": 2,
   "id": "sharp-midwest",
   "metadata": {},
   "outputs": [
    {
     "data": {
      "text/plain": [
       "Serie A             5911\n",
       "Championship        5512\n",
       "Liga Nos            4837\n",
       "Primera Division    3826\n",
       "Premier League      3707\n",
       "Ligue 1             3516\n",
       "Eredivisie          3002\n",
       "Premier Liga        2821\n",
       "1 Bundesliga        2796\n",
       "Name: league_name, dtype: int64"
      ]
     },
     "execution_count": 2,
     "metadata": {},
     "output_type": "execute_result"
    }
   ],
   "source": [
    "transfers['league_name'].value_counts()"
   ]
  },
  {
   "cell_type": "code",
   "execution_count": 3,
   "id": "awful-large",
   "metadata": {},
   "outputs": [
    {
     "data": {
      "text/plain": [
       "English League Championship    2228\n",
       "Italy Serie A                  1900\n",
       "Spanish Primera Division       1900\n",
       "Barclays Premier League        1900\n",
       "French Ligue 1                 1900\n",
       "German Bundesliga              1530\n",
       "Portuguese Liga                1224\n",
       "Dutch Eredivisie               1224\n",
       "Russian Premier Liga            955\n",
       "Name: league, dtype: int64"
      ]
     },
     "execution_count": 3,
     "metadata": {},
     "output_type": "execute_result"
    }
   ],
   "source": [
    "spi['league'].value_counts()"
   ]
  },
  {
   "cell_type": "code",
   "execution_count": 4,
   "id": "overhead-office",
   "metadata": {},
   "outputs": [
    {
     "data": {
      "text/plain": [
       "Italian Serie A                5911\n",
       "English League Championship    5512\n",
       "Portuguese Liga                4837\n",
       "Spanish La Liga                3826\n",
       "English Premier League         3707\n",
       "French Ligue 1                 3516\n",
       "Dutch Eredivisie               3002\n",
       "Russian Premier Liga           2821\n",
       "German Bundesliga              2796\n",
       "Name: league_name, dtype: int64"
      ]
     },
     "execution_count": 4,
     "metadata": {},
     "output_type": "execute_result"
    }
   ],
   "source": [
    "league_names = {\n",
    "    'Serie A': 'Italian Serie A',\n",
    "    'Championship': 'English League Championship',\n",
    "    'Liga Nos': 'Portuguese Liga',\n",
    "    'Primera Division': 'Spanish La Liga',\n",
    "    'Premier League': 'English Premier League',\n",
    "    'Ligue 1': 'French Ligue 1',\n",
    "    'Eredivisie': 'Dutch Eredivisie',\n",
    "    'Premier Liga': 'Russian Premier Liga',\n",
    "    '1 Bundesliga': 'German Bundesliga'\n",
    "}\n",
    "\n",
    "transfers['league_name'].replace(league_names, inplace=True)\n",
    "transfers['league_name'].value_counts()"
   ]
  },
  {
   "cell_type": "code",
   "execution_count": 5,
   "id": "unexpected-november",
   "metadata": {},
   "outputs": [
    {
     "data": {
      "text/plain": [
       "Dutch Eredivisie               1224\n",
       "English League Championship    2228\n",
       "English Premier League         1900\n",
       "French Ligue 1                 1900\n",
       "German Bundesliga              1530\n",
       "Italian Serie A                1900\n",
       "Portuguese Liga                1224\n",
       "Russian Premier Liga            955\n",
       "Spanish La Liga                1900\n",
       "Name: league, dtype: int64"
      ]
     },
     "execution_count": 5,
     "metadata": {},
     "output_type": "execute_result"
    }
   ],
   "source": [
    "spi['league'].value_counts()\n",
    "\n",
    "league_names = {\n",
    "    'Italy Serie A': 'Italian Serie A',\n",
    "    'English League Championship': 'English League Championship',\n",
    "    'Portuguese Liga': 'Portuguese Liga',\n",
    "    'Spanish Primera Division': 'Spanish La Liga',\n",
    "    'Barclays Premier League': 'English Premier League',\n",
    "    'French Ligue 1': 'French Ligue 1',\n",
    "    'Dutch Eredivisie': 'Dutch Eredivisie',\n",
    "    'Russian Premier Liga': 'Russian Premier Liga',\n",
    "    'German Bundesliga': 'German Bundesliga'\n",
    "}\n",
    "\n",
    "spi['league'].replace(league_names, inplace=True)\n",
    "spi['league'].value_counts().sort_index(ascending=True)"
   ]
  },
  {
   "cell_type": "markdown",
   "id": "confirmed-advance",
   "metadata": {},
   "source": [
    "### Using FuzzyWuzzy to clean team names\n",
    "\n",
    "The FuzzyWuzzy library matches strings by similarity. I've never used it before, but I'm hoping it will help me match team names across the two datasets, and maybe even standardize the team names so that I can combine the two dataframes without creating a whole lot of new rows in the merged dataframe.\n",
    "\n",
    "Let's go!"
   ]
  },
  {
   "cell_type": "code",
   "execution_count": 9,
   "id": "loved-voltage",
   "metadata": {},
   "outputs": [],
   "source": [
    "# I installed FuzzyWuzzy in the first cell in this notebook.\n",
    "# Here, I'll import the library\n",
    "import fuzzywuzzy\n",
    "from fuzzywuzzy import fuzz\n",
    "from fuzzywuzzy import process"
   ]
  },
  {
   "cell_type": "markdown",
   "id": "critical-catalog",
   "metadata": {},
   "source": [
    "#### Ok, first import, first warning. Classic. I'll install `python-Levenshtein` below.\n",
    "\n",
    "Briefly, ['the Levenshtein distance between two words is the minimum number of single-character edits (insertions, deletions or substitutions) required to change one word into the other.'](https://en.wikipedia.org/wiki/Levenshtein_distance#Definition)"
   ]
  },
  {
   "cell_type": "code",
   "execution_count": 8,
   "id": "becoming-intermediate",
   "metadata": {},
   "outputs": [
    {
     "name": "stdout",
     "output_type": "stream",
     "text": [
      "Collecting python-Levenshtein\n",
      "  Downloading python-Levenshtein-0.12.2.tar.gz (50 kB)\n",
      "\u001b[K     |████████████████████████████████| 50 kB 1.4 MB/s eta 0:00:01\n",
      "\u001b[?25hRequirement already satisfied: setuptools in /home/tdraths/miniconda3/lib/python3.7/site-packages (from python-Levenshtein) (52.0.0.post20210125)\n",
      "Building wheels for collected packages: python-Levenshtein\n",
      "  Building wheel for python-Levenshtein (setup.py) ... \u001b[?25ldone\n",
      "\u001b[?25h  Created wheel for python-Levenshtein: filename=python_Levenshtein-0.12.2-cp37-cp37m-linux_x86_64.whl size=178101 sha256=54b909cf35169819258e9fdac4ed4d88937eee60a0700bb8abfb093eef282d9f\n",
      "  Stored in directory: /home/tdraths/.cache/pip/wheels/05/5f/ca/7c4367734892581bb5ff896f15027a932c551080b2abd3e00d\n",
      "Successfully built python-Levenshtein\n",
      "Installing collected packages: python-Levenshtein\n",
      "Successfully installed python-Levenshtein-0.12.2\n"
     ]
    }
   ],
   "source": [
    "# Installing python-Levenshtein\n",
    "!pip3 install python-Levenshtein"
   ]
  },
  {
   "cell_type": "markdown",
   "id": "hearing-dictionary",
   "metadata": {},
   "source": [
    "### String Matching with FuzzyWuzzy\n",
    "\n",
    "FuzzyWuzzy lets us take two strings and match them, providing a similarity score. Here's an example:"
   ]
  },
  {
   "cell_type": "code",
   "execution_count": 11,
   "id": "genuine-coupon",
   "metadata": {},
   "outputs": [
    {
     "name": "stdout",
     "output_type": "stream",
     "text": [
      "Similarity score: 95\n"
     ]
    }
   ],
   "source": [
    "Str_A = 'FuzzyWuzzy solves problems!'\n",
    "Str_B = 'fuzzy wuzzy solves PROBLEMS.'\n",
    "\n",
    "ratio = fuzz.ratio(Str_A.lower(), Str_B.lower())\n",
    "print('Similarity score: {}'.format(ratio))"
   ]
  },
  {
   "cell_type": "markdown",
   "id": "authorized-daughter",
   "metadata": {},
   "source": [
    "### String replacement with FuzzyWuzzy\n",
    "\n",
    "Aside from the `ratio()` function, FuzzyWuzzy also uses functions like `token_set_ratio()` and `token_sort_ratio()` that tokenize the strings and then manipulate them, e.g. changing letters to lowercase, before running `fuzz.ratio()`. For more information on FuzzyWuzzy, check out the [documentation](https://pypi.org/project/fuzzywuzzy/)\n",
    "\n",
    "\n",
    "As I mentioned above, my two dataframes `transfers` and `spi` both have columns of team and league names. I used a manually created a dictionary of values to standardize the leagues. That was fine for nine values, but for team names, I have hundreds of unique strings to manage.\n",
    "\n",
    "To use FuzzyWuzzy to 'find and replace' the team names, I'll cast the two columns of team names to lists. Then I'll create a function that uses FuzzyWuzzy to calculate a similarity score between two team names and returns a dictionary with the strings we need to use in replacement.\n",
    "\n",
    "Let's go!"
   ]
  },
  {
   "cell_type": "code",
   "execution_count": 14,
   "id": "restricted-cooperative",
   "metadata": {},
   "outputs": [
    {
     "data": {
      "text/plain": [
       "Index(['club_name', 'player_name', 'age', 'position', 'club_involved_name',\n",
       "       'transfer_movement', 'transfer_period', 'fee_cleaned', 'league_name',\n",
       "       'year', 'season'],\n",
       "      dtype='object')"
      ]
     },
     "metadata": {},
     "output_type": "display_data"
    },
    {
     "data": {
      "text/plain": [
       "Index(['season', 'date', 'league_id', 'league', 'team1', 'team2', 'spi1',\n",
       "       'spi2'],\n",
       "      dtype='object')"
      ]
     },
     "execution_count": 14,
     "metadata": {},
     "output_type": "execute_result"
    }
   ],
   "source": [
    "display(transfers.columns)\n",
    "spi.columns"
   ]
  },
  {
   "cell_type": "code",
   "execution_count": 17,
   "id": "victorian-nashville",
   "metadata": {
    "scrolled": true
   },
   "outputs": [
    {
     "data": {
      "text/plain": [
       "{'(Bastia': 'SC Bastia)',\n",
       " '(AS Monaco': 'AS Monaco)',\n",
       " '(Hull City': 'Hull City)',\n",
       " '(Southampton': 'Southampton FC)',\n",
       " '(Burnley': 'Burnley FC)',\n",
       " '(Middlesbrough': 'Middlesbrough FC)',\n",
       " '(Crystal Palace': 'Crystal Palace)',\n",
       " '(Everton': 'Everton FC)',\n",
       " '(Manchester City': 'Manchester City)',\n",
       " '(Dijon FCO': 'Dijon FCO)',\n",
       " '(Montpellier': 'Montpellier HSC)',\n",
       " '(AFC Bournemouth': 'AFC Bournemouth)',\n",
       " '(AS Nancy Lorraine': 'AS Nancy-Lorraine)',\n",
       " '(Arsenal': 'Arsenal FC)',\n",
       " '(Chelsea': 'Chelsea FC)',\n",
       " '(Málaga': 'Málaga CF)',\n",
       " '(Manchester United': 'Manchester United)',\n",
       " '(Deportivo La Coruña': 'Deportivo de La Coruña)',\n",
       " '(Stoke City': 'Stoke City)',\n",
       " '(Watford': 'Watford FC)',\n",
       " '(West Bromwich Albion': 'West Bromwich Albion)',\n",
       " '(Swansea City': 'Swansea City)',\n",
       " '(Tottenham Hotspur': 'Tottenham Hotspur)',\n",
       " '(Nantes': 'FC Nantes)',\n",
       " '(AS Roma': 'AS Roma)',\n",
       " '(Barcelona': 'FC Barcelona)',\n",
       " '(Leicester City': 'Leicester City)',\n",
       " '(Stade Rennes': 'Stade Rennais FC)',\n",
       " '(Lorient': 'FC Lorient)',\n",
       " '(Toulouse': 'FC Toulouse)',\n",
       " '(Granada': 'Granada CF)',\n",
       " '(Juventus': 'Juventus FC)',\n",
       " '(Sevilla FC': 'Sevilla FC)',\n",
       " '(Sunderland': 'Sunderland AFC)',\n",
       " '(Guingamp': 'EA Guingamp)',\n",
       " '(West Ham United': 'West Ham United)',\n",
       " '(AC Milan': 'AC Milan)',\n",
       " '(Sporting Gijón': 'Sporting Gijón)',\n",
       " '(Real Sociedad': 'Real Sociedad)',\n",
       " '(Empoli': 'FC Empoli)',\n",
       " '(Paris Saint-Germain': 'Paris Saint-Germain)',\n",
       " '(Chievo Verona': 'Chievo Verona)',\n",
       " '(Atalanta': 'Atalanta BC)',\n",
       " '(Palermo': 'US Palermo)',\n",
       " '(Atletico Madrid': 'Atlético Madrid)',\n",
       " '(Celta Vigo': 'Celta de Vigo)',\n",
       " '(Valencia': 'Valencia CF)',\n",
       " '(Bayern Munich': 'Bayern Munich)',\n",
       " '(Eintracht Frankfurt': 'Eintracht Frankfurt)',\n",
       " '(Hamburg SV': 'Hamburger SV)',\n",
       " '(Borussia Dortmund': 'Borussia Dortmund)',\n",
       " '(FC Augsburg': 'FC Augsburg)',\n",
       " '(FC Cologne': 'FC Crotone)',\n",
       " '(Lazio': 'SS Lazio)',\n",
       " '(Osasuna': 'CA Osasuna)',\n",
       " '(Eibar': 'SD Eibar)',\n",
       " '(Borussia Monchengladbach': 'Borussia Mönchengladbach)',\n",
       " '(Real Madrid': 'Real Madrid)',\n",
       " '(TSG Hoffenheim': 'TSG 1899 Hoffenheim)',\n",
       " '(Las Palmas': 'UD Las Palmas)',\n",
       " '(Athletic Bilbao': 'Athletic Bilbao)',\n",
       " '(Fiorentina': 'ACF Fiorentina)',\n",
       " '(Crotone': 'FC Crotone)',\n",
       " '(Torino': 'Torino FC)',\n",
       " '(Sassuolo': 'US Sassuolo)',\n",
       " '(Sampdoria': 'UC Sampdoria)',\n",
       " '(Villarreal': 'Villarreal CF)',\n",
       " '(Schalke 04': 'FC Schalke 04)',\n",
       " '(FC Ingolstadt 04': 'FC Ingolstadt 04)',\n",
       " '(SC Freiburg': 'SC Freiburg)',\n",
       " '(Bayer Leverkusen': 'Bayer 04 Leverkusen)',\n",
       " '(SV Darmstadt 98': 'SV Darmstadt 98)',\n",
       " '(VfL Wolfsburg': 'VfL Wolfsburg)',\n",
       " '(RB Leipzig': 'RB Leipzig)',\n",
       " '(Liverpool': 'Liverpool FC)',\n",
       " '(Werder Bremen': 'SV Werder Bremen)',\n",
       " '(FC Tosno': 'FK Tosno)',\n",
       " '(Anzhi Makhachkala': 'Anzhi Makhachkala)',\n",
       " '(Rubin Kazan': 'Rubin Kazan)',\n",
       " '(Terek Grozny': 'Terek Grozny)',\n",
       " '(Lokomotiv Moscow': 'Lokomotiv Moscow)',\n",
       " '(Dinamo Moscow': 'Dynamo Moscow)',\n",
       " '(CSKA Moscow': 'CSKA Moscow)',\n",
       " '(Zenit St Petersburg': 'Zenit St. Petersburg)',\n",
       " '(FC Krasnodar': 'FK Krasnodar)',\n",
       " '(FC Ufa': 'FK Ufa)',\n",
       " '(Rostov': 'FK Rostov)',\n",
       " '(FC Arsenal Tula': 'Arsenal Tula)',\n",
       " '(Amkar Perm': 'Amkar Perm)',\n",
       " '(Spartak Moscow': 'Spartak Moscow)',\n",
       " '(Nottingham Forest': 'Nottingham Forest)',\n",
       " '(Sheffield United': 'Sheffield United)',\n",
       " '(Ipswich Town': 'Ipswich Town)',\n",
       " '(Bristol City': 'Bristol City)',\n",
       " '(Fulham': 'Fulham FC)',\n",
       " '(Queens Park Rangers': 'Queens Park Rangers)',\n",
       " '(Preston North End': 'Preston North End)',\n",
       " '(Burton Albion': 'Burton Albion)',\n",
       " '(Aston Villa': 'Aston Villa)',\n",
       " '(Desportivo Aves': 'Desportivo Aves)',\n",
       " '(Vitoria Setubal': 'Vitória Setúbal FC)',\n",
       " '(Portimonense': 'Portimonense SC)',\n",
       " '(Feirense': 'CD Feirense)',\n",
       " '(Rio Ave': 'Rio Ave FC)',\n",
       " '(FC Porto': 'FC Porto)',\n",
       " '(Benfica': 'SL Benfica)',\n",
       " '(ADO Den Haag': 'ADO Den Haag)',\n",
       " '(Sporting CP': 'Sporting CP)',\n",
       " '(Sheffield Wednesday': 'Sheffield Wednesday)',\n",
       " '(Leeds United': 'Leeds United)',\n",
       " '(Millwall': 'Millwall FC)',\n",
       " '(Reading': 'Reading FC)',\n",
       " '(Barnsley': 'Barnsley FC)',\n",
       " '(Birmingham': 'Birmingham City)',\n",
       " '(Derby County': 'Derby County)',\n",
       " '(Cardiff City': 'Cardiff City)',\n",
       " '(Brentford': 'Brentford FC)',\n",
       " '(Moreirense': 'Moreirense FC)',\n",
       " '(Brighton and Hove Albion': 'Brighton & Hove Albion)',\n",
       " '(VVV Venlo': 'VVV-Venlo)',\n",
       " '(Belenenses': 'Belenenses SAD)',\n",
       " '(Amiens': 'Amiens SC)',\n",
       " '(Boavista': 'Boavista FC)',\n",
       " '(PEC Zwolle': 'PEC Zwolle)',\n",
       " '(Norwich City': 'Norwich City)',\n",
       " '(FC Groningen': 'FC Groningen)',\n",
       " '(Pacos Ferreira': 'FC Paços de Ferreira)',\n",
       " '(Braga': 'SC Braga)',\n",
       " '(Tondela': 'CD Tondela)',\n",
       " '(Estoril Praia': 'Estoril Praia)',\n",
       " '(Chaves': 'GD Chaves)',\n",
       " '(Girona FC': 'Girona FC)',\n",
       " '(Heerenveen': 'SC Heerenveen)',\n",
       " '(FC Utrecht': 'FC Utrecht)',\n",
       " '(Huddersfield Town': 'Huddersfield Town)',\n",
       " '(Levante': 'Levante UD)',\n",
       " '(VfB Stuttgart': 'VfB Stuttgart)',\n",
       " '(Hannover 96': 'Hannover 96)',\n",
       " '(Getafe': 'Getafe CF)',\n",
       " '(Rotherham United': 'Rotherham United)',\n",
       " '(Fortuna Sittard': 'Fortuna Sittard)',\n",
       " '(Emmen': 'FC Emmen)',\n",
       " '(C.D. Nacional': 'CD Nacional)',\n",
       " '(Rayo Vallecano': 'Rayo Vallecano)',\n",
       " '(Santa Clara': 'CD Santa Clara)',\n",
       " '(Fortuna Düsseldorf': 'Fortuna Düsseldorf)',\n",
       " '(Real Valladolid': 'Real Valladolid CF)',\n",
       " '(1. FC Nürnberg': '1.FC Nuremberg)',\n",
       " '(SD Huesca': 'SD Huesca)',\n",
       " '(Sochi': 'FC Sochi)',\n",
       " '(FC Tambov': 'FK Tambov)',\n",
       " '(Luton Town': 'Luton Town)',\n",
       " '(Charlton Athletic': 'Charlton Athletic)',\n",
       " '(Gil Vicente': 'Gil Vicente FC)',\n",
       " '(Famalicao': 'FC Famalicão)',\n",
       " '(Mallorca': 'RCD Mallorca)',\n",
       " '(1. FC Union Berlin': '1.FC Union Berlin)',\n",
       " '(SC Paderborn': 'SC Paderborn 07)',\n",
       " '(Lecce': 'US Lecce)',\n",
       " '(FC Khimki': 'FK Khimki)',\n",
       " '(Wycombe Wanderers': 'Wycombe Wanderers)',\n",
       " '(Coventry City': 'Coventry City)',\n",
       " '(Arminia Bielefeld': 'Arminia Bielefeld)',\n",
       " '(Elche': 'Elche CF)',\n",
       " '(SC Farense': 'SC Farense)'}"
      ]
     },
     "execution_count": 17,
     "metadata": {},
     "output_type": "execute_result"
    }
   ],
   "source": [
    "transfer_names = list(transfers.club_name.unique())\n",
    "spi_names = list(spi.team1.unique())\n",
    "\n",
    "def name_match(name, names_list, min_score=0):\n",
    "    max_score = -1\n",
    "    max_name = ''\n",
    "    for a in names_list:\n",
    "        score = fuzz.ratio(name, a)\n",
    "        if (score > min_score) & (score > max_score):\n",
    "            max_name = a\n",
    "            max_score=score\n",
    "    return (max_name, max_score)\n",
    "\n",
    "names = []\n",
    "for x in spi_names:\n",
    "    match = name_match(x, transfer_names, 75)\n",
    "    if match[1] >= 75:\n",
    "        name = ('(' + str(x), str(match[0]) + ')')\n",
    "        names.append(name)\n",
    "\n",
    "name_dict = dict(names)\n",
    "name_dict"
   ]
  },
  {
   "cell_type": "markdown",
   "id": "dedicated-preliminary",
   "metadata": {},
   "source": [
    "#### OK! \n",
    "I have a dictionary of replacement names, which I'll use below to replace `team1` and `team2` names in `spi`."
   ]
  },
  {
   "cell_type": "code",
   "execution_count": 18,
   "id": "structured-accordance",
   "metadata": {},
   "outputs": [],
   "source": [
    "transfers.club_name = transfers.club_name.replace(name_dict)\n",
    "spi.team1 = spi.team1.replace(name_dict)\n",
    "spi.team2 = spi.team2.replace(name_dict)"
   ]
  },
  {
   "cell_type": "code",
   "execution_count": null,
   "id": "trained-grain",
   "metadata": {},
   "outputs": [],
   "source": []
  },
  {
   "cell_type": "code",
   "execution_count": null,
   "id": "appreciated-identity",
   "metadata": {},
   "outputs": [],
   "source": []
  },
  {
   "cell_type": "code",
   "execution_count": null,
   "id": "desirable-lemon",
   "metadata": {},
   "outputs": [],
   "source": []
  }
 ],
 "metadata": {
  "kernelspec": {
   "display_name": "Python 3",
   "language": "python",
   "name": "python3"
  },
  "language_info": {
   "codemirror_mode": {
    "name": "ipython",
    "version": 3
   },
   "file_extension": ".py",
   "mimetype": "text/x-python",
   "name": "python",
   "nbconvert_exporter": "python",
   "pygments_lexer": "ipython3",
   "version": "3.7.10"
  }
 },
 "nbformat": 4,
 "nbformat_minor": 5
}
